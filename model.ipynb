{
 "cells": [
  {
   "cell_type": "code",
   "execution_count": 1,
   "id": "5f4a224f-36ce-488e-9b79-6857354d754d",
   "metadata": {},
   "outputs": [],
   "source": [
    "import dl\n",
    "import numpy as np"
   ]
  },
  {
   "cell_type": "code",
   "execution_count": 2,
   "id": "6fa60a98-68bc-40e7-902b-0cebae96f2cd",
   "metadata": {},
   "outputs": [],
   "source": [
    "# Read raw Data.\n",
    "trainX = np.load(\"data/train_data.npy\")\n",
    "trainy = np.load(\"data/train_label.npy\")\n",
    "testX = np.load(\"data/test_data.npy\")\n",
    "testy = np.load(\"data/test_label.npy\")"
   ]
  },
  {
   "cell_type": "code",
   "execution_count": 3,
   "id": "4dc53b81-24ff-4ce8-a53a-8c556d19cc0a",
   "metadata": {},
   "outputs": [],
   "source": [
    "# Preprocessing\n",
    "trainy = dl.utils.one_hot_encode(trainy)\n",
    "testy = dl.utils.one_hot_encode(testy)"
   ]
  },
  {
   "cell_type": "code",
   "execution_count": 4,
   "id": "43702d69-34df-468c-82de-2b09f129a1c6",
   "metadata": {},
   "outputs": [],
   "source": [
    "# Construct dataset object for minibatch and iterator\n",
    "trainset = dl.dataset.DataSet(trainX, \n",
    "                              trainy, \n",
    "                              batch_size=128, \n",
    "                              shuffle=True, \n",
    "                              keep_remainder=True)\n",
    "testset = dl.dataset.DataSet(testX, \n",
    "                             testy, \n",
    "                             batch_size=128, \n",
    "                             shuffle=True,\n",
    "                             keep_remainder=True)"
   ]
  },
  {
   "cell_type": "code",
   "execution_count": 5,
   "id": "8a15855c-8a6f-47f4-9439-4d7351317d86",
   "metadata": {},
   "outputs": [],
   "source": [
    "# define the model\n",
    "class MLP(dl.nn.Module):\n",
    "\n",
    "    def __init__(self):\n",
    "        super().__init__()\n",
    "        self.fc1 = dl.Layers.DenseLayer(128, 64, initializer=dl.nn.xavier_normal_init)\n",
    "        self.bn1 = dl.Layers.BatchNormLayer(64)\n",
    "        self.dp1 = dl.Layers.DropoutLayer(0.25)\n",
    "        self.fc2 = dl.Layers.DenseLayer(64, 32, initializer=dl.nn.xavier_normal_init)\n",
    "        self.bn2 = dl.Layers.BatchNormLayer(32)\n",
    "        self.dp2 = dl.Layers.DropoutLayer(0.25)\n",
    "        self.fc3 = dl.Layers.DenseLayer(32, 10, initializer=dl.nn.xavier_normal_init)\n",
    "        self.out = dl.SoftMax()\n",
    "\n",
    "    def forward(self, X):\n",
    "        out = self.fc1(X)\n",
    "        out = self.bn1(out)\n",
    "        out = self.dp1(out)\n",
    "        out = dl.relu(out)\n",
    "        out = self.fc2(out)\n",
    "        out = self.bn2(out)\n",
    "        out = self.dp2(out)\n",
    "        out = dl.relu(out)\n",
    "        out = self.fc3(out)\n",
    "        return self.out(out)\n",
    "    \n",
    "model = MLP()"
   ]
  },
  {
   "cell_type": "code",
   "execution_count": 6,
   "id": "be04cedb-d694-480d-a320-07cbe49c10f3",
   "metadata": {},
   "outputs": [],
   "source": [
    "# define the optimizer and loss function\n",
    "optimizer = dl.optimizer.AdamOptimizer(model.get_parameters(),\n",
    "                                       lr=1e-3,\n",
    "                                       momentum=(0.9,0.999),\n",
    "                                       weight_decay=0.02)\n",
    "loss_func = dl.metrics.CrossEntropyLoss()"
   ]
  },
  {
   "cell_type": "code",
   "execution_count": 7,
   "id": "6a433652-73bc-41d6-881d-5a7bd7567036",
   "metadata": {},
   "outputs": [],
   "source": [
    "# define a LR decay scheduler\n",
    "scheduler = dl.optimizer.LRDecayScheduler(optimizer,\n",
    "                                         decay_mode=\"max\",\n",
    "                                         tolerance_round=10,\n",
    "                                         verbose=True)"
   ]
  },
  {
   "cell_type": "code",
   "execution_count": 8,
   "id": "b6250f3a-d142-454e-a882-07b3131b9a89",
   "metadata": {},
   "outputs": [],
   "source": [
    "# define the training process\n",
    "def train():\n",
    "    model.train()\n",
    "    train_loss_epoch = 0\n",
    "    train_accuracy_epoch = 0\n",
    "    for x, y in trainset:\n",
    "        optimizer.zero_grad()\n",
    "        yhat = model(x)\n",
    "        loss = loss_func(y, yhat)\n",
    "        loss.backward()\n",
    "        optimizer.step()\n",
    "        train_loss_epoch += loss.item\n",
    "        train_accuracy_epoch += dl.metrics.accuracy(y, yhat)\n",
    "    train_loss_epoch /= len(trainset)\n",
    "    train_accuracy_epoch /= len(trainset)\n",
    "    model.eval()\n",
    "    test_loss_epoch = 0\n",
    "    test_accuracy_epoch = 0\n",
    "    for x, y in testset:\n",
    "        yhat = model(x)\n",
    "        loss = loss_func(y, yhat)\n",
    "        test_loss_epoch += loss.item\n",
    "        test_accuracy_epoch += dl.metrics.accuracy(y, yhat)\n",
    "    test_loss_epoch /= len(testset)\n",
    "    test_accuracy_epoch /= len(testset)\n",
    "#     scheduler.step(test_accuracy_epoch)\n",
    "    print(f\"Train loss {train_loss_epoch}, Train acc: {train_accuracy_epoch}, \"\n",
    "          f\"Test loss: {test_loss_epoch}, Test acc: {test_accuracy_epoch}\")\n",
    "    return train_loss_epoch, train_accuracy_epoch, test_loss_epoch, test_accuracy_epoch"
   ]
  },
  {
   "cell_type": "code",
   "execution_count": 9,
   "id": "c640f0e2-52a2-487e-941a-bea45c9302a5",
   "metadata": {},
   "outputs": [],
   "source": [
    "# Create an early-stopping pipe\n",
    "session = dl.utils.EarlyStoppingPipe(model,\n",
    "                                     train, \n",
    "                                     1000,\n",
    "                                     value_on_watch=3, \n",
    "                                     tolerance_round=20)"
   ]
  },
  {
   "cell_type": "code",
   "execution_count": 10,
   "id": "0769643d-b3e4-4e53-834b-950646f7c0c4",
   "metadata": {},
   "outputs": [
    {
     "name": "stdout",
     "output_type": "stream",
     "text": [
      "Epoch 1: Train loss 0.18191537287005508, Train acc: 0.34769421355498725, Test loss: 0.16597073374458038, Test acc: 0.4153481012658228\n",
      "Epoch 2: Train loss 0.1717362580695474, Train acc: 0.38755195012787724, Test loss: 0.160247491856926, Test acc: 0.4319620253164557\n",
      "Epoch 3: Train loss 0.16778372567637787, Train acc: 0.39966032608695656, Test loss: 0.15572289413472976, Test acc: 0.4463014240506329\n",
      "Epoch 4: Train loss 0.164927952037682, Train acc: 0.4103820332480818, Test loss: 0.15277734359000986, Test acc: 0.4510482594936709\n",
      "Epoch 5: Train loss 0.16258873089917977, Train acc: 0.41607656649616365, Test loss: 0.14997807618319212, Test acc: 0.4650909810126582\n",
      "Epoch 6: Train loss 0.16067603020245882, Train acc: 0.42176310741687983, Test loss: 0.1487747743317866, Test acc: 0.46528876582278483\n",
      "Epoch 7: Train loss 0.15933623017079482, Train acc: 0.4252597506393862, Test loss: 0.14786929576682328, Test acc: 0.4688488924050633\n",
      "Epoch 8: Train loss 0.15789605159092615, Train acc: 0.4314418158567775, Test loss: 0.14608576127711506, Test acc: 0.4778481012658228\n",
      "Epoch 9: Train loss 0.15687827314270575, Train acc: 0.43226902173913045, Test loss: 0.14472853735060617, Test acc: 0.48249604430379744\n",
      "Epoch 10: Train loss 0.15567589660887252, Train acc: 0.4392663043478261, Test loss: 0.14386894320178903, Test acc: 0.489121835443038\n",
      "Epoch 11: Train loss 0.15424524922907917, Train acc: 0.44440936700767264, Test loss: 0.1429482350351122, Test acc: 0.4866495253164557\n",
      "Epoch 12: Train loss 0.15379668822903045, Train acc: 0.44691496163682864, Test loss: 0.14218782692484377, Test acc: 0.49297863924050633\n",
      "Epoch 13: Train loss 0.15286011404919306, Train acc: 0.4480578644501279, Test loss: 0.14112684717654478, Test acc: 0.49198971518987344\n",
      "Epoch 14: Train loss 0.15218999893940738, Train acc: 0.4506593670076726, Test loss: 0.14044906536612523, Test acc: 0.49920886075949367\n",
      "Epoch 15: Train loss 0.15151958697409137, Train acc: 0.4519381393861892, Test loss: 0.14019729250507104, Test acc: 0.5009889240506329\n",
      "Epoch 16: Train loss 0.15070135025619652, Train acc: 0.45508711636828647, Test loss: 0.13964990643028233, Test acc: 0.5062302215189873\n",
      "Epoch 17: Train loss 0.15077679428875723, Train acc: 0.4560062340153453, Test loss: 0.1389056439289685, Test acc: 0.506131329113924\n",
      "Epoch 18: Train loss 0.149829179389679, Train acc: 0.45884351023017905, Test loss: 0.13843108769869047, Test acc: 0.5066257911392406\n",
      "Epoch 19: Train loss 0.14926723584964335, Train acc: 0.4630714514066496, Test loss: 0.13834588036441192, Test acc: 0.5022745253164557\n",
      "Epoch 20: Train loss 0.14922964092081487, Train acc: 0.4632273017902813, Test loss: 0.13755612156379493, Test acc: 0.5097903481012658\n",
      "Epoch 21: Train loss 0.1482429421185665, Train acc: 0.4645979859335039, Test loss: 0.13710965925581717, Test acc: 0.5134493670886076\n",
      "Epoch 22: Train loss 0.1477601603730038, Train acc: 0.46732336956521736, Test loss: 0.13729822075443657, Test acc: 0.5141416139240507\n",
      "Epoch 23: Train loss 0.14769119944906317, Train acc: 0.4680866368286445, Test loss: 0.1370712509264323, Test acc: 0.515625\n",
      "Epoch 24: Train loss 0.14775733386654843, Train acc: 0.46650415601023015, Test loss: 0.13662858495535388, Test acc: 0.5209651898734177\n",
      "Epoch 25: Train loss 0.14697640127161538, Train acc: 0.4712196291560102, Test loss: 0.13678060742657347, Test acc: 0.5112737341772152\n",
      "Epoch 26: Train loss 0.14640591076930082, Train acc: 0.47415281329923276, Test loss: 0.13602362100384957, Test acc: 0.5177017405063291\n",
      "Epoch 27: Train loss 0.14652161190588317, Train acc: 0.47238251278772375, Test loss: 0.1359284424654122, Test acc: 0.5192840189873418\n",
      "Epoch 28: Train loss 0.14671659743210885, Train acc: 0.47110374040920716, Test loss: 0.1360157067913398, Test acc: 0.5181962025316456\n",
      "Epoch 29: Train loss 0.1461303364803335, Train acc: 0.471491368286445, Test loss: 0.13580137664877234, Test acc: 0.5206685126582279\n",
      "Epoch 30: Train loss 0.14623011425692448, Train acc: 0.4730978260869565, Test loss: 0.1356060248078636, Test acc: 0.520371835443038\n",
      "Epoch 31: Train loss 0.14557777669318153, Train acc: 0.4744525255754476, Test loss: 0.1354714294756577, Test acc: 0.5195806962025317\n",
      "Epoch 32: Train loss 0.14564621458409124, Train acc: 0.47400495524296676, Test loss: 0.13558177756163187, Test acc: 0.5229430379746836\n",
      "Epoch 33: Train loss 0.1445781665153935, Train acc: 0.4770300511508952, Test loss: 0.13510624301613644, Test acc: 0.5229430379746836\n",
      "Epoch 34: Train loss 0.14458175897146033, Train acc: 0.48126998081841427, Test loss: 0.13534832152387236, Test acc: 0.5154272151898734\n",
      "Epoch 35: Train loss 0.14492346215453908, Train acc: 0.4776934143222506, Test loss: 0.13513255010499553, Test acc: 0.516317246835443\n",
      "Epoch 36: Train loss 0.1446894827352182, Train acc: 0.4818813938618926, Test loss: 0.13456814812003054, Test acc: 0.5234375\n",
      "Epoch 37: Train loss 0.1435930960769592, Train acc: 0.4807864450127878, Test loss: 0.13466914671981428, Test acc: 0.521756329113924\n",
      "Epoch 38: Train loss 0.14382867111856104, Train acc: 0.4818254475703325, Test loss: 0.13553607088918906, Test acc: 0.5185917721518988\n",
      "Epoch 39: Train loss 0.14457128163647623, Train acc: 0.479187979539642, Test loss: 0.13511630903401012, Test acc: 0.5174050632911392\n",
      "Epoch 40: Train loss 0.14409429782391792, Train acc: 0.48078244884910487, Test loss: 0.13477417880239834, Test acc: 0.5204707278481012\n",
      "Epoch 41: Train loss 0.14404146927389838, Train acc: 0.47889226342710994, Test loss: 0.1354066264765325, Test acc: 0.5152294303797469\n",
      "Epoch 42: Train loss 0.14346333079950077, Train acc: 0.48033487851662404, Test loss: 0.13474052953049984, Test acc: 0.5200751582278481\n",
      "Epoch 43: Train loss 0.14294077309407402, Train acc: 0.4825247762148338, Test loss: 0.1340808685643105, Test acc: 0.5202729430379747\n",
      "Epoch 44: Train loss 0.1433718764200378, Train acc: 0.48456681585677747, Test loss: 0.13425229264257055, Test acc: 0.5239319620253164\n",
      "Epoch 45: Train loss 0.14387488806951837, Train acc: 0.48037883631713557, Test loss: 0.13431604034140898, Test acc: 0.5223496835443038\n",
      "Epoch 46: Train loss 0.14326738633598304, Train acc: 0.4824408567774936, Test loss: 0.1342731262721584, Test acc: 0.5263053797468354\n",
      "Epoch 47: Train loss 0.1426421761345782, Train acc: 0.486173273657289, Test loss: 0.1340313561846325, Test acc: 0.524129746835443\n",
      "Epoch 48: Train loss 0.14298604407790239, Train acc: 0.4856257992327365, Test loss: 0.13430292548313214, Test acc: 0.5213607594936709\n",
      "Epoch 49: Train loss 0.14229423005153244, Train acc: 0.48890664961636826, Test loss: 0.1339846579353973, Test acc: 0.5185917721518988\n",
      "Epoch 50: Train loss 0.142650698447052, Train acc: 0.48485453964194375, Test loss: 0.13381317131145337, Test acc: 0.5260087025316456\n",
      "Epoch 51: Train loss 0.14220921362594213, Train acc: 0.4889306265984655, Test loss: 0.13391132268054978, Test acc: 0.525118670886076\n",
      "Epoch 52: Train loss 0.1421526552164904, Train acc: 0.48881074168797956, Test loss: 0.13376976791937994, Test acc: 0.525118670886076\n",
      "Epoch 53: Train loss 0.1418842334501613, Train acc: 0.4887228260869565, Test loss: 0.1339264840166475, Test acc: 0.5243275316455697\n",
      "Epoch 54: Train loss 0.14211594948867645, Train acc: 0.4878436700767263, Test loss: 0.13389605367920776, Test acc: 0.5270965189873418\n",
      "Epoch 55: Train loss 0.14223001222424492, Train acc: 0.4906969309462916, Test loss: 0.13386534340784906, Test acc: 0.521756329113924\n",
      "Epoch 56: Train loss 0.14227514837619487, Train acc: 0.4902533567774936, Test loss: 0.1339922888775033, Test acc: 0.5246242088607594\n",
      "Epoch 57: Train loss 0.14200017104846907, Train acc: 0.48657289002557547, Test loss: 0.13417526126359594, Test acc: 0.525118670886076\n",
      "Epoch 58: Train loss 0.1418187639482062, Train acc: 0.49060501918158567, Test loss: 0.13349353803621147, Test acc: 0.5264042721518988\n",
      "Epoch 59: Train loss 0.14200795226481241, Train acc: 0.48760390025575445, Test loss: 0.13347435583296238, Test acc: 0.5263053797468354\n",
      "Epoch 60: Train loss 0.1414928546469952, Train acc: 0.4900535485933504, Test loss: 0.13399760944658975, Test acc: 0.5272943037974683\n",
      "Epoch 61: Train loss 0.1412721700042235, Train acc: 0.4940177429667519, Test loss: 0.13374062789645177, Test acc: 0.5236352848101266\n",
      "Epoch 62: Train loss 0.14177121942645893, Train acc: 0.4896898976982097, Test loss: 0.13374786246573767, Test acc: 0.5268987341772152\n",
      "Epoch 63: Train loss 0.14113047932930037, Train acc: 0.4933743606138108, Test loss: 0.13370054077008398, Test acc: 0.5278876582278481\n",
      "Epoch 64: Train loss 0.1409606579380024, Train acc: 0.4928508631713555, Test loss: 0.13354604956260904, Test acc: 0.529568829113924\n",
      "Epoch 65: Train loss 0.1410743509154441, Train acc: 0.4937659846547315, Test loss: 0.1332153458963709, Test acc: 0.5289754746835443\n",
      "Epoch 66: Train loss 0.1412003786888738, Train acc: 0.49233935421994884, Test loss: 0.1330649874631254, Test acc: 0.5276898734177216\n",
      "Epoch 67: Train loss 0.1412019451386207, Train acc: 0.49353820332480813, Test loss: 0.13361040076705072, Test acc: 0.526503164556962\n",
      "Epoch 68: Train loss 0.14101931891220032, Train acc: 0.49396978900255756, Test loss: 0.13363131339958348, Test acc: 0.5231408227848101\n",
      "Epoch 69: Train loss 0.14121430907438093, Train acc: 0.49471307544757037, Test loss: 0.1336310720755438, Test acc: 0.526503164556962\n",
      "Epoch 70: Train loss 0.14079393338780916, Train acc: 0.4939018542199488, Test loss: 0.13352672124530063, Test acc: 0.5301621835443038\n",
      "Epoch 71: Train loss 0.14033817582376534, Train acc: 0.4949608375959079, Test loss: 0.13321976335747074, Test acc: 0.5264042721518988\n",
      "Epoch 72: Train loss 0.14057202782645198, Train acc: 0.4963794757033248, Test loss: 0.13319659940903092, Test acc: 0.5262064873417721\n",
      "Epoch 73: Train loss 0.14101019271640436, Train acc: 0.4947730179028133, Test loss: 0.13334911563297983, Test acc: 0.5280854430379747\n",
      "Epoch 74: Train loss 0.14087379571717742, Train acc: 0.4946291560102302, Test loss: 0.13368991741396719, Test acc: 0.5250197784810127\n",
      "Epoch 75: Train loss 0.14085595462500003, Train acc: 0.4964194373401534, Test loss: 0.13384877962772362, Test acc: 0.526503164556962\n",
      "Epoch 76: Train loss 0.1403545428421386, Train acc: 0.49597186700767265, Test loss: 0.13327190967476685, Test acc: 0.5243275316455697\n",
      "Epoch 77: Train loss 0.1407659947414922, Train acc: 0.4955322890025576, Test loss: 0.1336776273627941, Test acc: 0.525118670886076\n",
      "Epoch 78: Train loss 0.14083567746621226, Train acc: 0.49685901534526855, Test loss: 0.1336024899034263, Test acc: 0.5282832278481012\n",
      "Epoch 79: Train loss 0.14067209770877542, Train acc: 0.4949088874680307, Test loss: 0.1335036854374845, Test acc: 0.525810917721519\n",
      "Epoch 80: Train loss 0.1405230042879447, Train acc: 0.494956841432225, Test loss: 0.1334536989679705, Test acc: 0.5278876582278481\n",
      "Epoch 81: Train loss 0.1399180756714457, Train acc: 0.49773417519181584, Test loss: 0.13318085069738708, Test acc: 0.5272943037974683\n",
      "Epoch 82: Train loss 0.14025280944221394, Train acc: 0.4973945012787723, Test loss: 0.13353116005204857, Test acc: 0.5240308544303798\n",
      "Epoch 83: Train loss 0.1403784596123656, Train acc: 0.4966272378516624, Test loss: 0.13337710676968323, Test acc: 0.5273931962025317\n",
      "Epoch 84: Train loss 0.14040835116423703, Train acc: 0.4970907928388747, Test loss: 0.1329890679150274, Test acc: 0.5279865506329114\n",
      "Epoch 85: Train loss 0.14076105420711146, Train acc: 0.49736253196930946, Test loss: 0.13395969657947507, Test acc: 0.5249208860759493\n",
      "Epoch 86: Train loss 0.14057512028315733, Train acc: 0.4969908887468031, Test loss: 0.13356072576161235, Test acc: 0.5229430379746836\n",
      "Epoch 87: Train loss 0.13987519429870146, Train acc: 0.4972186700767263, Test loss: 0.13314823591034083, Test acc: 0.5264042721518988\n",
      "Epoch 88: Train loss 0.14039378679093834, Train acc: 0.4942495204603581, Test loss: 0.13320936699805355, Test acc: 0.5252175632911392\n",
      "Epoch 89: Train loss 0.14049140949665778, Train acc: 0.49640744884910487, Test loss: 0.13348695100362953, Test acc: 0.5276898734177216\n",
      "Epoch 90: Train loss 0.1403394185402614, Train acc: 0.4973065856777494, Test loss: 0.13333938813343627, Test acc: 0.524129746835443\n",
      "Epoch 91: Train loss 0.14010517046345622, Train acc: 0.49785406010230177, Test loss: 0.13336010039166107, Test acc: 0.5259098101265823\n",
      "EarlyStopped with best score 0.5301621835443038 at epoch 70\n",
      "CPU times: user 43min 52s, sys: 27min 42s, total: 1h 11min 35s\n",
      "Wall time: 4min 28s\n"
     ]
    },
    {
     "data": {
      "text/plain": [
       "<__main__.MLP at 0x7f460d34f310>"
      ]
     },
     "execution_count": 10,
     "metadata": {},
     "output_type": "execute_result"
    }
   ],
   "source": [
    "%%time\n",
    "session.run() # Begin training"
   ]
  },
  {
   "cell_type": "code",
   "execution_count": 11,
   "id": "5622e0db-cf3a-4acd-827e-dfa4278c7e68",
   "metadata": {},
   "outputs": [
    {
     "data": {
      "text/plain": [
       "<matplotlib.legend.Legend at 0x7f460a716340>"
      ]
     },
     "execution_count": 11,
     "metadata": {},
     "output_type": "execute_result"
    },
    {
     "data": {
      "image/png": "[encoded data removed]",
      "text/plain": [
       "<Figure size 432x288 with 1 Axes>"
      ]
     },
     "metadata": {
      "needs_background": "light"
     },
     "output_type": "display_data"
    }
   ],
   "source": [
    "# plot the result\n",
    "import matplotlib.pyplot as plt\n",
    "%matplotlib inline\n",
    "\n",
    "data = session.get_evaluation_data()\n",
    "x_axis = [i for i in range(len(data))]\n",
    "train_loss = [i[0] for i in data]\n",
    "test_acc = [i[3] for i in data]\n",
    "\n",
    "plt.plot(x_axis, train_loss, label=\"TrainLoss\")\n",
    "plt.plot(x_axis, test_acc, label=\"TestAcc\")\n",
    "plt.title(\"Train\")\n",
    "plt.xlabel(\"Epoch\")\n",
    "plt.legend()"
   ]
  }
 ],
 "metadata": {
  "kernelspec": {
   "display_name": "Python 3",
   "language": "python",
   "name": "python3"
  },
  "language_info": {
   "codemirror_mode": {
    "name": "ipython",
    "version": 3
   },
   "file_extension": ".py",
   "mimetype": "text/x-python",
   "name": "python",
   "nbconvert_exporter": "python",
   "pygments_lexer": "ipython3",
   "version": "3.8.8"
  }
 },
 "nbformat": 4,
 "nbformat_minor": 5
}
